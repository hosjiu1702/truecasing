{
 "cells": [
  {
   "cell_type": "code",
   "execution_count": 1,
   "id": "3ab75073-eb02-469c-8dac-512f0b8f778b",
   "metadata": {},
   "outputs": [],
   "source": [
    "import pandas as pd\n",
    "import numpy as np\n",
    "from tqdm import tqdm\n",
    "from tensorflow.keras.utils import to_categorical\n",
    "from tensorflow.keras.models import Sequential\n",
    "from tensorflow.keras.layers import Dense\n",
    "from tensorflow.keras.layers import Flatten, LSTM\n",
    "from tensorflow.keras.layers import Embedding\n",
    "from tensorflow.keras.layers import TimeDistributed, Bidirectional\n",
    "from matplotlib import pyplot as plt\n",
    "import tensorflow\n",
    "from tensorflow.keras.models import Model, load_model"
   ]
  },
  {
   "cell_type": "markdown",
   "id": "ae2d441f-85e0-4168-bf29-6228caaf8a2c",
   "metadata": {},
   "source": [
    "LOAD FILE DATA"
   ]
  },
  {
   "cell_type": "code",
   "execution_count": 2,
   "id": "75a62e97-b864-47be-ab43-527a9746b749",
   "metadata": {},
   "outputs": [],
   "source": [
    "path_data = 'data/ner.txt'\n",
    "with open(path_data, 'r',encoding='utf8') as f:\n",
    "    data = f.readlines() \n",
    "    "
   ]
  },
  {
   "cell_type": "markdown",
   "id": "e31ac3e4-67a3-4e73-9d80-46ccc1ad00d2",
   "metadata": {},
   "source": [
    "DEFINE \n"
   ]
  },
  {
   "cell_type": "code",
   "execution_count": 3,
   "id": "4ce3f23e-5865-45de-9b65-4c0fd516e1b5",
   "metadata": {},
   "outputs": [],
   "source": [
    "begin_labels = [\"B\", \"I\"]\n",
    "ner_labels = [\"SYS.FULL_NAME\"]\n",
    "max_word = 15\n",
    "max_character = 6\n",
    "max_charac_embed = max_word*max_character"
   ]
  },
  {
   "cell_type": "markdown",
   "id": "5ec431d0-23c6-4dfd-b725-06054ba1fd5e",
   "metadata": {},
   "source": [
    "BUILD VOCAB"
   ]
  },
  {
   "cell_type": "code",
   "execution_count": 4,
   "id": "f158ab53-1947-4508-bc48-8852721021bc",
   "metadata": {},
   "outputs": [
    {
     "name": "stderr",
     "output_type": "stream",
     "text": [
      "100%|████████████████████████████████████████████| 3998/3998 [00:00<00:00, 373412.33it/s]\n"
     ]
    }
   ],
   "source": [
    "corpus = []\n",
    "for line in tqdm(data):\n",
    "    splitted_sentence = line.split('\\t')\n",
    "    \n",
    "    sentence = splitted_sentence[0]\n",
    "    name_lower = splitted_sentence[1][:splitted_sentence[1].find('|')]\n",
    "    \n",
    "    # sentence_capitalize = sentence.replace(name_lower, name_lower.title())\n",
    "    corpus.extend(list(sentence))\n",
    "    corpus.extend(list(name_lower.title()))\n",
    "    \n",
    "corpus =  pd.Series(corpus)\n",
    "vocab = corpus.unique ()"
   ]
  },
  {
   "cell_type": "markdown",
   "id": "eb06725d-aea4-4a65-8a61-0ef4aa642d84",
   "metadata": {},
   "source": [
    "BUILD DICTIONARY"
   ]
  },
  {
   "cell_type": "code",
   "execution_count": 5,
   "id": "32d55db4-5787-4ae2-84a7-59e0e91367a9",
   "metadata": {},
   "outputs": [],
   "source": [
    "charac2idx = {w : i + 2 for i, w in enumerate(vocab)}\n",
    "charac2idx[\"UNK\"] = 1\n",
    "charac2idx[\"PAD\"] = 0\n",
    "idx2charac = {i: w for w, i in charac2idx.items()}\n",
    "\n",
    "cap2idx = {'False':0, 'True':1}\n",
    "cap2idx[\"PAD\"] = 0\n",
    "idx2cap = {0:'False', 1:'True'}"
   ]
  },
  {
   "cell_type": "markdown",
   "id": "60ab9738-7bb4-4b17-a2c1-ab70db205d55",
   "metadata": {},
   "source": [
    "PADDING FUNCTION"
   ]
  },
  {
   "cell_type": "code",
   "execution_count": 6,
   "id": "4deb79ac-8068-4ee6-bda8-90cdcc456889",
   "metadata": {},
   "outputs": [],
   "source": [
    "def padding (characters, max_padding, value_padding):\n",
    "    if len(characters)>max_padding:\n",
    "        return characters[0:max_padding]\n",
    "    else:\n",
    "        characters.extend([value_padding]*(max_padding-len(characters)))\n",
    "        return characters"
   ]
  },
  {
   "cell_type": "markdown",
   "id": "76eaa082-b007-4e14-bf7d-37c5cbe4245c",
   "metadata": {},
   "source": [
    "PROCESS DATA"
   ]
  },
  {
   "cell_type": "code",
   "execution_count": 7,
   "id": "44d9b4e9-d07d-4c33-8464-f6f555a54e60",
   "metadata": {},
   "outputs": [],
   "source": [
    "X = []\n",
    "y = []\n",
    "for i,line in enumerate(data):\n",
    "         \n",
    "    splitted_sentence = line.split('\\t')\n",
    "    \n",
    "    sentence = splitted_sentence[0]\n",
    "    name_lower = splitted_sentence[1][:splitted_sentence[1].find('|')]\n",
    "    \n",
    "    capitalized_sentence = sentence.replace(name_lower, name_lower.title())\n",
    "    capitalized_label = [cap2idx[str(label.isupper())] for label in list(capitalized_sentence)]\n",
    "    y.append(padding(characters=capitalized_label, max_padding=max_charac_embed, value_padding=cap2idx[\"PAD\"]))\n",
    "    \n",
    "    lowered_sentence = [charac2idx[charater] for charater in list(sentence)]\n",
    "    X.append(padding(characters=lowered_sentence, max_padding=max_charac_embed, value_padding=charac2idx[\"PAD\"]))\n",
    "    "
   ]
  },
  {
   "cell_type": "code",
   "execution_count": 9,
   "id": "b7f7946c-380b-4972-8b0d-fddc76c3e047",
   "metadata": {},
   "outputs": [
    {
     "name": "stdout",
     "output_type": "stream",
     "text": [
      "3998\n",
      "3998\n"
     ]
    }
   ],
   "source": [
    "print(len(y))\n",
    "print(len(X))"
   ]
  },
  {
   "cell_type": "code",
   "execution_count": 10,
   "id": "9b92a40f-db55-4655-871d-c93e7bdb361d",
   "metadata": {},
   "outputs": [],
   "source": [
    "y = [to_categorical(i, num_classes = 2) for i in y]\n",
    "X = np.array(X)\n",
    "y = np.array(y)"
   ]
  },
  {
   "cell_type": "code",
   "execution_count": 11,
   "id": "e30302a7-7e04-4c89-8e40-c77fa3a2263e",
   "metadata": {},
   "outputs": [
    {
     "name": "stdout",
     "output_type": "stream",
     "text": [
      "(3998, 90, 2)\n",
      "(3998, 90)\n"
     ]
    }
   ],
   "source": [
    "print(y.shape)\n",
    "print(X.shape)"
   ]
  },
  {
   "cell_type": "code",
   "execution_count": 12,
   "id": "61a0685d-252e-48e4-b421-15df93f93b31",
   "metadata": {},
   "outputs": [],
   "source": [
    "X = X.reshape(3998,90,1)"
   ]
  },
  {
   "cell_type": "code",
   "execution_count": 13,
   "id": "a96c2a93-2b11-45ac-9541-9792c2f27b47",
   "metadata": {},
   "outputs": [
    {
     "name": "stdout",
     "output_type": "stream",
     "text": [
      "(3998, 90, 2)\n",
      "(3998, 90, 1)\n"
     ]
    }
   ],
   "source": [
    "print(y.shape)\n",
    "print(X.shape)"
   ]
  },
  {
   "cell_type": "markdown",
   "id": "b10e1bed-fe8c-4a8a-91d5-28ee8eb5c960",
   "metadata": {},
   "source": [
    "BUILD MODEL"
   ]
  },
  {
   "cell_type": "code",
   "execution_count": 14,
   "id": "58d677a2-2acd-45e1-b4c5-1f95ed4cbaac",
   "metadata": {},
   "outputs": [
    {
     "name": "stderr",
     "output_type": "stream",
     "text": [
      "2021-11-01 16:23:49.709095: I tensorflow/stream_executor/cuda/cuda_gpu_executor.cc:937] successful NUMA node read from SysFS had negative value (-1), but there must be at least one NUMA node, so returning NUMA node zero\n"
     ]
    },
    {
     "name": "stdout",
     "output_type": "stream",
     "text": [
      "WARNING:tensorflow:Layer lstm will not use cuDNN kernels since it doesn't meet the criteria. It will use a generic GPU kernel as fallback when running on GPU.\n",
      "WARNING:tensorflow:Layer lstm will not use cuDNN kernels since it doesn't meet the criteria. It will use a generic GPU kernel as fallback when running on GPU.\n",
      "WARNING:tensorflow:Layer lstm will not use cuDNN kernels since it doesn't meet the criteria. It will use a generic GPU kernel as fallback when running on GPU.\n",
      "Model: \"sequential\"\n",
      "_________________________________________________________________\n",
      "Layer (type)                 Output Shape              Param #   \n",
      "=================================================================\n",
      "embedding (Embedding)        (None, 90, 50)            8100      \n",
      "_________________________________________________________________\n",
      "bidirectional (Bidirectional (None, 90, 40)            11360     \n",
      "_________________________________________________________________\n",
      "time_distributed (TimeDistri (None, 90, 2)             82        \n",
      "=================================================================\n",
      "Total params: 19,542\n",
      "Trainable params: 19,542\n",
      "Non-trainable params: 0\n",
      "_________________________________________________________________\n"
     ]
    },
    {
     "name": "stderr",
     "output_type": "stream",
     "text": [
      "2021-11-01 16:23:49.712163: I tensorflow/stream_executor/cuda/cuda_gpu_executor.cc:937] successful NUMA node read from SysFS had negative value (-1), but there must be at least one NUMA node, so returning NUMA node zero\n",
      "2021-11-01 16:23:49.712278: I tensorflow/stream_executor/cuda/cuda_gpu_executor.cc:937] successful NUMA node read from SysFS had negative value (-1), but there must be at least one NUMA node, so returning NUMA node zero\n",
      "2021-11-01 16:23:49.712952: I tensorflow/core/platform/cpu_feature_guard.cc:142] This TensorFlow binary is optimized with oneAPI Deep Neural Network Library (oneDNN) to use the following CPU instructions in performance-critical operations:  AVX2 FMA\n",
      "To enable them in other operations, rebuild TensorFlow with the appropriate compiler flags.\n",
      "2021-11-01 16:23:49.713440: I tensorflow/stream_executor/cuda/cuda_gpu_executor.cc:937] successful NUMA node read from SysFS had negative value (-1), but there must be at least one NUMA node, so returning NUMA node zero\n",
      "2021-11-01 16:23:49.713560: I tensorflow/stream_executor/cuda/cuda_gpu_executor.cc:937] successful NUMA node read from SysFS had negative value (-1), but there must be at least one NUMA node, so returning NUMA node zero\n",
      "2021-11-01 16:23:49.713666: I tensorflow/stream_executor/cuda/cuda_gpu_executor.cc:937] successful NUMA node read from SysFS had negative value (-1), but there must be at least one NUMA node, so returning NUMA node zero\n",
      "2021-11-01 16:23:50.042223: I tensorflow/stream_executor/cuda/cuda_gpu_executor.cc:937] successful NUMA node read from SysFS had negative value (-1), but there must be at least one NUMA node, so returning NUMA node zero\n",
      "2021-11-01 16:23:50.042360: I tensorflow/stream_executor/cuda/cuda_gpu_executor.cc:937] successful NUMA node read from SysFS had negative value (-1), but there must be at least one NUMA node, so returning NUMA node zero\n",
      "2021-11-01 16:23:50.042466: I tensorflow/stream_executor/cuda/cuda_gpu_executor.cc:937] successful NUMA node read from SysFS had negative value (-1), but there must be at least one NUMA node, so returning NUMA node zero\n",
      "2021-11-01 16:23:50.042554: I tensorflow/core/common_runtime/gpu/gpu_device.cc:1510] Created device /job:localhost/replica:0/task:0/device:GPU:0 with 7847 MB memory:  -> device: 0, name: NVIDIA GeForce RTX 3080, pci bus id: 0000:01:00.0, compute capability: 8.6\n"
     ]
    }
   ],
   "source": [
    "model = Sequential()\n",
    "model.add(Embedding(input_dim=len(vocab)+2, output_dim= 50, input_length=max_charac_embed))\n",
    "model.add(Bidirectional(LSTM(units=20, return_sequences=True, recurrent_dropout=0.1)))\n",
    "model.add(TimeDistributed(Dense(2, activation=\"softmax\")))\n",
    "# compile the model\n",
    "opt = tensorflow.keras.optimizers.Adam(learning_rate=0.0001)\n",
    "model.compile(optimizer=opt, loss='categorical_crossentropy', metrics=['accuracy'])\n",
    "# summarize the model\n",
    "model.summary()\n",
    "# fit the model\n"
   ]
  },
  {
   "cell_type": "code",
   "execution_count": null,
   "id": "78ffd334-180a-4cf3-82a8-9b737b3a2f76",
   "metadata": {},
   "outputs": [],
   "source": [
    "a = model.predict(X[0:3900])\n",
    "print(a.shape)"
   ]
  },
  {
   "cell_type": "code",
   "execution_count": 108,
   "id": "7fb1f2df-3b86-4c26-9191-e7be582f2943",
   "metadata": {},
   "outputs": [
    {
     "name": "stdout",
     "output_type": "stream",
     "text": [
      "[  7  10  11   4  70   4  85   6  11   4  23  90   9   4   7  24  11   4\n",
      " 133  47 133   4   9  23  19  20   8 160   9   4   5  61   9   4  35  39\n",
      " 153  49   4  43   2  39  40   9  23   4 139  99  49   4  89  19  80   9\n",
      "   4 132   0   0   0   0   0   0   0   0   0   0   0   0   0   0   0   0\n",
      "   0   0   0   0   0   0   0   0   0   0   0   0   0   0   0   0   0   0]\n",
      "90\n"
     ]
    }
   ],
   "source": [
    "print(X[3979])\n",
    "print(len(X[3979])"
   ]
  },
  {
   "cell_type": "code",
   "execution_count": 15,
   "id": "ab89aa4f-285e-4465-a339-03302eff084f",
   "metadata": {},
   "outputs": [
    {
     "name": "stderr",
     "output_type": "stream",
     "text": [
      "2021-11-01 16:24:03.361507: I tensorflow/compiler/mlir/mlir_graph_optimization_pass.cc:185] None of the MLIR Optimization Passes are enabled (registered 2)\n"
     ]
    },
    {
     "name": "stdout",
     "output_type": "stream",
     "text": [
      "Epoch 1/50\n"
     ]
    },
    {
     "name": "stderr",
     "output_type": "stream",
     "text": [
      "2021-11-01 16:24:05.914215: I tensorflow/stream_executor/cuda/cuda_blas.cc:1760] TensorFloat-32 will be used for the matrix multiplication. This will only be logged once.\n"
     ]
    },
    {
     "name": "stdout",
     "output_type": "stream",
     "text": [
      "300/300 - 78s - loss: 0.3135 - accuracy: 0.9616 - val_loss: 0.0553 - val_accuracy: 0.9917\n",
      "Epoch 2/50\n",
      "300/300 - 75s - loss: 0.0976 - accuracy: 0.9781 - val_loss: 0.0542 - val_accuracy: 0.9917\n",
      "Epoch 3/50\n",
      "300/300 - 75s - loss: 0.0921 - accuracy: 0.9781 - val_loss: 0.0522 - val_accuracy: 0.9917\n",
      "Epoch 4/50\n",
      "300/300 - 76s - loss: 0.0890 - accuracy: 0.9781 - val_loss: 0.0500 - val_accuracy: 0.9917\n",
      "Epoch 5/50\n",
      "300/300 - 75s - loss: 0.0862 - accuracy: 0.9781 - val_loss: 0.0508 - val_accuracy: 0.9917\n",
      "Epoch 6/50\n",
      "300/300 - 76s - loss: 0.0822 - accuracy: 0.9781 - val_loss: 0.0484 - val_accuracy: 0.9917\n",
      "Epoch 7/50\n",
      "300/300 - 76s - loss: 0.0758 - accuracy: 0.9781 - val_loss: 0.0446 - val_accuracy: 0.9917\n",
      "Epoch 8/50\n",
      "300/300 - 75s - loss: 0.0699 - accuracy: 0.9781 - val_loss: 0.0432 - val_accuracy: 0.9917\n",
      "Epoch 9/50\n",
      "300/300 - 76s - loss: 0.0651 - accuracy: 0.9781 - val_loss: 0.0432 - val_accuracy: 0.9917\n",
      "Epoch 10/50\n",
      "300/300 - 76s - loss: 0.0609 - accuracy: 0.9781 - val_loss: 0.0421 - val_accuracy: 0.9917\n",
      "Epoch 11/50\n",
      "300/300 - 76s - loss: 0.0573 - accuracy: 0.9782 - val_loss: 0.0412 - val_accuracy: 0.9917\n",
      "Epoch 12/50\n",
      "300/300 - 75s - loss: 0.0540 - accuracy: 0.9785 - val_loss: 0.0421 - val_accuracy: 0.9917\n",
      "Epoch 13/50\n",
      "300/300 - 76s - loss: 0.0510 - accuracy: 0.9796 - val_loss: 0.0436 - val_accuracy: 0.9916\n",
      "Epoch 14/50\n",
      "300/300 - 76s - loss: 0.0484 - accuracy: 0.9808 - val_loss: 0.0406 - val_accuracy: 0.9915\n",
      "Epoch 15/50\n",
      "300/300 - 76s - loss: 0.0459 - accuracy: 0.9821 - val_loss: 0.0395 - val_accuracy: 0.9912\n",
      "Epoch 16/50\n",
      "300/300 - 75s - loss: 0.0437 - accuracy: 0.9832 - val_loss: 0.0412 - val_accuracy: 0.9905\n",
      "Epoch 17/50\n",
      "300/300 - 76s - loss: 0.0415 - accuracy: 0.9842 - val_loss: 0.0444 - val_accuracy: 0.9887\n",
      "Epoch 18/50\n",
      "300/300 - 76s - loss: 0.0403 - accuracy: 0.9850 - val_loss: 0.0402 - val_accuracy: 0.9897\n",
      "Epoch 19/50\n",
      "300/300 - 75s - loss: 0.0385 - accuracy: 0.9860 - val_loss: 0.0408 - val_accuracy: 0.9892\n",
      "Epoch 20/50\n",
      "300/300 - 75s - loss: 0.0370 - accuracy: 0.9867 - val_loss: 0.0404 - val_accuracy: 0.9886\n",
      "Epoch 21/50\n",
      "300/300 - 75s - loss: 0.0360 - accuracy: 0.9868 - val_loss: 0.0397 - val_accuracy: 0.9888\n",
      "Epoch 22/50\n",
      "300/300 - 75s - loss: 0.0350 - accuracy: 0.9876 - val_loss: 0.0437 - val_accuracy: 0.9876\n",
      "Epoch 23/50\n",
      "300/300 - 75s - loss: 0.0336 - accuracy: 0.9878 - val_loss: 0.0410 - val_accuracy: 0.9875\n",
      "Epoch 24/50\n",
      "300/300 - 75s - loss: 0.0331 - accuracy: 0.9881 - val_loss: 0.0423 - val_accuracy: 0.9873\n",
      "Epoch 25/50\n",
      "300/300 - 75s - loss: 0.0321 - accuracy: 0.9884 - val_loss: 0.0413 - val_accuracy: 0.9873\n",
      "Epoch 26/50\n",
      "300/300 - 76s - loss: 0.0312 - accuracy: 0.9887 - val_loss: 0.0427 - val_accuracy: 0.9859\n",
      "Epoch 27/50\n",
      "300/300 - 75s - loss: 0.0309 - accuracy: 0.9889 - val_loss: 0.0394 - val_accuracy: 0.9878\n",
      "Epoch 28/50\n",
      "300/300 - 76s - loss: 0.0302 - accuracy: 0.9891 - val_loss: 0.0417 - val_accuracy: 0.9863\n",
      "Epoch 29/50\n",
      "300/300 - 75s - loss: 0.0294 - accuracy: 0.9893 - val_loss: 0.0413 - val_accuracy: 0.9868\n",
      "Epoch 30/50\n",
      "300/300 - 75s - loss: 0.0289 - accuracy: 0.9895 - val_loss: 0.0422 - val_accuracy: 0.9851\n",
      "Epoch 31/50\n",
      "300/300 - 75s - loss: 0.0286 - accuracy: 0.9896 - val_loss: 0.0389 - val_accuracy: 0.9875\n",
      "Epoch 32/50\n",
      "300/300 - 75s - loss: 0.0281 - accuracy: 0.9898 - val_loss: 0.0398 - val_accuracy: 0.9866\n",
      "Epoch 33/50\n",
      "300/300 - 75s - loss: 0.0276 - accuracy: 0.9899 - val_loss: 0.0406 - val_accuracy: 0.9860\n",
      "Epoch 34/50\n",
      "300/300 - 75s - loss: 0.0270 - accuracy: 0.9901 - val_loss: 0.0386 - val_accuracy: 0.9874\n",
      "Epoch 35/50\n",
      "300/300 - 75s - loss: 0.0267 - accuracy: 0.9901 - val_loss: 0.0415 - val_accuracy: 0.9851\n",
      "Epoch 36/50\n",
      "300/300 - 75s - loss: 0.0261 - accuracy: 0.9904 - val_loss: 0.0431 - val_accuracy: 0.9843\n",
      "Epoch 37/50\n",
      "300/300 - 75s - loss: 0.0257 - accuracy: 0.9904 - val_loss: 0.0432 - val_accuracy: 0.9839\n",
      "Epoch 38/50\n",
      "300/300 - 75s - loss: 0.0253 - accuracy: 0.9907 - val_loss: 0.0443 - val_accuracy: 0.9834\n",
      "Epoch 39/50\n",
      "300/300 - 75s - loss: 0.0250 - accuracy: 0.9906 - val_loss: 0.0401 - val_accuracy: 0.9861\n",
      "Epoch 40/50\n",
      "300/300 - 75s - loss: 0.0247 - accuracy: 0.9909 - val_loss: 0.0429 - val_accuracy: 0.9845\n",
      "Epoch 41/50\n",
      "300/300 - 75s - loss: 0.0242 - accuracy: 0.9909 - val_loss: 0.0373 - val_accuracy: 0.9883\n",
      "Epoch 42/50\n",
      "300/300 - 75s - loss: 0.0239 - accuracy: 0.9913 - val_loss: 0.0404 - val_accuracy: 0.9856\n",
      "Epoch 43/50\n",
      "300/300 - 75s - loss: 0.0238 - accuracy: 0.9912 - val_loss: 0.0374 - val_accuracy: 0.9879\n",
      "Epoch 44/50\n",
      "300/300 - 75s - loss: 0.0233 - accuracy: 0.9914 - val_loss: 0.0387 - val_accuracy: 0.9868\n",
      "Epoch 45/50\n",
      "300/300 - 75s - loss: 0.0230 - accuracy: 0.9915 - val_loss: 0.0396 - val_accuracy: 0.9861\n",
      "Epoch 46/50\n",
      "300/300 - 75s - loss: 0.0228 - accuracy: 0.9915 - val_loss: 0.0379 - val_accuracy: 0.9875\n",
      "Epoch 47/50\n",
      "300/300 - 75s - loss: 0.0223 - accuracy: 0.9915 - val_loss: 0.0390 - val_accuracy: 0.9863\n",
      "Epoch 48/50\n",
      "300/300 - 76s - loss: 0.0221 - accuracy: 0.9919 - val_loss: 0.0394 - val_accuracy: 0.9859\n",
      "Epoch 49/50\n",
      "300/300 - 76s - loss: 0.0217 - accuracy: 0.9918 - val_loss: 0.0418 - val_accuracy: 0.9845\n",
      "Epoch 50/50\n",
      "300/300 - 76s - loss: 0.0218 - accuracy: 0.9919 - val_loss: 0.0403 - val_accuracy: 0.9855\n"
     ]
    }
   ],
   "source": [
    "history = model.fit(X, y, epochs=50, verbose=2, workers=8, batch_size=8, validation_split=4/10)"
   ]
  },
  {
   "cell_type": "code",
   "execution_count": 15,
   "id": "a4982ed5-8654-4fdb-9c72-dc889bbceea3",
   "metadata": {},
   "outputs": [
    {
     "name": "stdout",
     "output_type": "stream",
     "text": [
      "dict_keys(['loss', 'accuracy', 'val_loss', 'val_accuracy'])\n"
     ]
    }
   ],
   "source": [
    "print(history.history.keys())"
   ]
  },
  {
   "cell_type": "code",
   "execution_count": 16,
   "id": "19bd8951-6378-43ac-82b8-e9c1f34451a8",
   "metadata": {},
   "outputs": [
    {
     "data": {
      "image/png": "[encoded data removed]",
      "text/plain": [
       "<Figure size 432x288 with 1 Axes>"
      ]
     },
     "metadata": {
      "needs_background": "light"
     },
     "output_type": "display_data"
    },
    {
     "data": {
      "image/png": "[encoded data removed]",
      "text/plain": [
       "<Figure size 432x288 with 1 Axes>"
      ]
     },
     "metadata": {
      "needs_background": "light"
     },
     "output_type": "display_data"
    }
   ],
   "source": [
    "# summarize history for accuracy\n",
    "plt.plot(history.history['accuracy'])\n",
    "plt.plot(history.history['val_accuracy'])\n",
    "plt.title('model accuracy')\n",
    "plt.ylabel('accuracy')\n",
    "plt.xlabel('epoch')\n",
    "plt.legend(['train', 'val'], loc='upper left')\n",
    "plt.show()\n",
    "# summarize history for loss\n",
    "plt.plot(history.history['loss'])\n",
    "plt.plot(history.history['val_loss'])\n",
    "plt.title('model loss')\n",
    "plt.ylabel('loss')\n",
    "plt.xlabel('epoch')\n",
    "plt.legend(['train', 'val'], loc='upper left')\n",
    "plt.show()"
   ]
  },
  {
   "cell_type": "code",
   "execution_count": 17,
   "id": "4f5980c6-87b9-4954-831e-6e39817d937d",
   "metadata": {},
   "outputs": [],
   "source": [
    "model.save('model/truecasing_model_new.h5')"
   ]
  }
 ],
 "metadata": {
  "kernelspec": {
   "display_name": "Python 3 (ipykernel)",
   "language": "python",
   "name": "python3"
  },
  "language_info": {
   "codemirror_mode": {
    "name": "ipython",
    "version": 3
   },
   "file_extension": ".py",
   "mimetype": "text/x-python",
   "name": "python",
   "nbconvert_exporter": "python",
   "pygments_lexer": "ipython3",
   "version": "3.7.11"
  }
 },
 "nbformat": 4,
 "nbformat_minor": 5
}
